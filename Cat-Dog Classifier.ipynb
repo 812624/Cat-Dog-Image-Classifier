{
 "cells": [
  {
   "cell_type": "markdown",
   "metadata": {},
   "source": [
    "# Importing all necessary dependencies"
   ]
  },
  {
   "cell_type": "code",
   "execution_count": 1,
   "metadata": {
    "collapsed": true
   },
   "outputs": [],
   "source": [
    "import numpy as np\n",
    "import matplotlib.pyplot as plt \n",
    "import tensorflow as tf\n",
    "import tflearn\n",
    "import tensorflow as tf\n",
    "from PIL import Image\n",
    "%matplotlib inline\n",
    "# For writing text files\n",
    "import glob\n",
    "import os     \n",
    "import random \n",
    "# Reading images from a text file\n",
    "from tflearn.data_utils import image_preloader\n",
    "import math"
   ]
  },
  {
   "cell_type": "code",
   "execution_count": 2,
   "metadata": {
    "collapsed": true
   },
   "outputs": [],
   "source": [
    "IMAGE_FOLDER = '/home/sakshi/Desktop/ImageClassifier/train'\n",
    "TRAIN_DATA = '/home/sakshi/Desktop/ImageClassifier/training_data.txt'\n",
    "TEST_DATA = '/home/sakshi/Desktop/ImageClassifier/test_data.txt'\n",
    "VALIDATION_DATA = '/home/sakshi/Desktop/ImageClassifier/validation_data.txt'\n",
    "train_proportion=0.7\n",
    "test_proportion=0.2\n",
    "validation_proportion=0.1"
   ]
  },
  {
   "cell_type": "markdown",
   "metadata": {},
   "source": [
    "# Read the image directories"
   ]
  },
  {
   "cell_type": "code",
   "execution_count": 3,
   "metadata": {
    "collapsed": true
   },
   "outputs": [],
   "source": [
    "filenames_image = os.listdir(IMAGE_FOLDER)\n",
    "# Shuffling the data\n",
    "random.shuffle(filenames_image)"
   ]
  },
  {
   "cell_type": "markdown",
   "metadata": {},
   "source": [
    "# Importing the data"
   ]
  },
  {
   "cell_type": "code",
   "execution_count": 4,
   "metadata": {
    "collapsed": true
   },
   "outputs": [],
   "source": [
    "X_train, Y_train = image_preloader(TRAIN_DATA, image_shape=(45,45),mode='file', categorical_labels=True,normalize=True)\n",
    "X_test, Y_test = image_preloader(TEST_DATA, image_shape=(45,45),mode='file', categorical_labels=True,normalize=True)\n",
    "X_val, Y_val = image_preloader(VALIDATION_DATA, image_shape=(45,45),mode='file', categorical_labels=True,normalize=True)"
   ]
  },
  {
   "cell_type": "markdown",
   "metadata": {},
   "source": [
    "# Description of data division"
   ]
  },
  {
   "cell_type": "code",
   "execution_count": 5,
   "metadata": {},
   "outputs": [
    {
     "name": "stdout",
     "output_type": "stream",
     "text": [
      "Dataset\n",
      "Number of training images 17500\n",
      "Number of testing images 5000\n",
      "Number of validation images 2500\n",
      "Shape of an image (45, 45, 3)\n",
      "Shape of label:(2,) ,number of classes: 2\n"
     ]
    }
   ],
   "source": [
    "print (\"Dataset\")\n",
    "print (\"Number of training images {}\".format(len(X_train)))\n",
    "print (\"Number of testing images {}\".format(len(X_test)))\n",
    "print (\"Number of validation images {}\".format(len(X_val)))\n",
    "print (\"Shape of an image {}\" .format(X_train[1].shape))\n",
    "print (\"Shape of label:{} ,number of classes: {}\".format(Y_train[1].shape,len(Y_train[1])))"
   ]
  },
  {
   "cell_type": "code",
   "execution_count": 6,
   "metadata": {},
   "outputs": [
    {
     "data": {
      "image/png": "[encoded data removed]",
      "text/plain": [
       "<matplotlib.figure.Figure at 0x7f8a1855c3d0>"
      ]
     },
     "metadata": {},
     "output_type": "display_data"
    }
   ],
   "source": [
    "# Sample Image \n",
    "plt.imshow(X_train[1])\n",
    "plt.axis('off')\n",
    "plt.title('Sample image with label {}'.format(Y_train[1]))\n",
    "plt.show()"
   ]
  },
  {
   "cell_type": "markdown",
   "metadata": {},
   "source": [
    "# Declaring placeholders"
   ]
  },
  {
   "cell_type": "code",
   "execution_count": 7,
   "metadata": {
    "collapsed": true
   },
   "outputs": [],
   "source": [
    "x=tf.placeholder(tf.float32,shape=[None,45,45,3] , name='input_image') \n",
    "#input class\n",
    "y_=tf.placeholder(tf.float32,shape=[None, 2] , name='input_class')"
   ]
  },
  {
   "cell_type": "markdown",
   "metadata": {},
   "source": [
    "# CNN implementation"
   ]
  },
  {
   "cell_type": "code",
   "execution_count": 8,
   "metadata": {
    "collapsed": true
   },
   "outputs": [],
   "source": [
    "input_layer=x\n",
    "\n",
    "# Convolutional layer 1 --convolution+RELU activation\n",
    "conv_layer1=tflearn.layers.conv.conv_2d(input_layer, nb_filter=64, filter_size=5, strides=[1,1,1,1],\n",
    "                                        padding='same', activation='relu', regularizer=\"L2\", name='conv_layer_1')\n",
    "\n",
    "# 2x2 max pooling layer\n",
    "out_layer1=tflearn.layers.conv.max_pool_2d(conv_layer1, 2)\n",
    "\n",
    "\n",
    "# Second convolutional layer \n",
    "conv_layer2=tflearn.layers.conv.conv_2d(out_layer1, nb_filter=128, filter_size=5, strides=[1,1,1,1],\n",
    "                                        padding='same', activation='relu',  regularizer=\"L2\", name='conv_layer_2')\n",
    "out_layer2=tflearn.layers.conv.max_pool_2d(conv_layer2, 2)\n",
    "# Third convolutional layer\n",
    "conv_layer3=tflearn.layers.conv.conv_2d(out_layer2, nb_filter=128, filter_size=5, strides=[1,1,1,1],\n",
    "                                        padding='same', activation='relu',  regularizer=\"L2\", name='conv_layer_2')\n",
    "out_layer3=tflearn.layers.conv.max_pool_2d(conv_layer3, 2)\n",
    "\n",
    "# Fully connected layer1\n",
    "fcl= tflearn.layers.core.fully_connected(out_layer3, 4096, activation='relu' , name='FCL-1')\n",
    "fcl_dropout_1 = tflearn.layers.core.dropout(fcl, 0.8)\n",
    "\n",
    "# Fully connected layer2\n",
    "fc2= tflearn.layers.core.fully_connected(fcl_dropout_1, 4096, activation='relu' , name='FCL-2')\n",
    "fcl_dropout_2 = tflearn.layers.core.dropout(fc2, 0.8)\n",
    "\n",
    "# Softmax layer output\n",
    "y_predicted = tflearn.layers.core.fully_connected(fcl_dropout_2, 2, activation='softmax', name='output')"
   ]
  },
  {
   "cell_type": "markdown",
   "metadata": {},
   "source": [
    "# Loss function + optimizer + accuracy calculation"
   ]
  },
  {
   "cell_type": "code",
   "execution_count": 9,
   "metadata": {
    "collapsed": true
   },
   "outputs": [],
   "source": [
    "# Loss function\n",
    "cross_entropy = tf.reduce_mean(-tf.reduce_sum(y_ * tf.log(y_predicted+np.exp(-10)), reduction_indices=[1]))\n",
    "\n",
    "# Optimizer -\n",
    "train_step = tf.train.AdamOptimizer(1e-4).minimize(cross_entropy)\n",
    "\n",
    "# Calculating accuracy of our model \n",
    "correct_prediction = tf.equal(tf.argmax(y_predicted,1), tf.argmax(y_,1))\n",
    "accuracy = tf.reduce_mean(tf.cast(correct_prediction, tf.float32))"
   ]
  },
  {
   "cell_type": "markdown",
   "metadata": {},
   "source": [
    "# Saving the model"
   ]
  },
  {
   "cell_type": "code",
   "execution_count": 10,
   "metadata": {
    "collapsed": true
   },
   "outputs": [],
   "source": [
    "# Session parameters\n",
    "sess = tf.InteractiveSession()\n",
    "# Initialising variables\n",
    "init = tf.global_variables_initializer()\n",
    "sess.run(init)\n",
    "saver = tf.train.Saver()\n",
    "save_path=\"/home/Desktop/ImageClassifier\""
   ]
  },
  {
   "cell_type": "markdown",
   "metadata": {},
   "source": [
    "# Declaraing epochs"
   ]
  },
  {
   "cell_type": "markdown",
   "metadata": {},
   "source": [
    "Epochs and batch_size are intentionally kept low, as per my system configuration"
   ]
  },
  {
   "cell_type": "code",
   "execution_count": 11,
   "metadata": {
    "collapsed": true
   },
   "outputs": [],
   "source": [
    "epoch=3\n",
    "batch_size=8\n",
    "no_itr_per_epoch=len(X_train)//batch_size "
   ]
  },
  {
   "cell_type": "code",
   "execution_count": 12,
   "metadata": {
    "collapsed": true
   },
   "outputs": [],
   "source": [
    "no_itr_per_epoch\n",
    "\n",
    "# number of test samples\n",
    "n_test=len(X_test) \n",
    "\n",
    "# number of validation samples\n",
    "n_val=len(X_val)  "
   ]
  },
  {
   "cell_type": "code",
   "execution_count": 15,
   "metadata": {},
   "outputs": [
    {
     "name": "stdout",
     "output_type": "stream",
     "text": [
      "Iteration no: 0 \n",
      "Iteration no: 1 \n",
      "Iteration no: 2 \n"
     ]
    }
   ],
   "source": [
    "# Now iterate over our dataset n_epoch times\n",
    "for iteration in range(epoch):\n",
    "    print(\"Iteration no: {} \".format(iteration))\n",
    "    \n",
    "    previous_batch=0\n",
    "    # Do our mini batches:\n",
    "    for i in range(no_itr_per_epoch):\n",
    "        current_batch=previous_batch+batch_size\n",
    "        x_input=X_train[previous_batch:current_batch]\n",
    "        x_images=np.reshape(x_input,[batch_size,45,45,3])\n",
    "        \n",
    "        y_input=Y_train[previous_batch:current_batch]\n",
    "        y_label=np.reshape(y_input,[batch_size,2])\n",
    "        previous_batch=previous_batch+batch_size\n",
    "        \n",
    "        sess.run(train_step, feed_dict={x: x_images,y_: y_label})  "
   ]
  },
  {
   "cell_type": "markdown",
   "metadata": {},
   "source": [
    "# Accuracy on test dataset"
   ]
  },
  {
   "cell_type": "code",
   "execution_count": 28,
   "metadata": {},
   "outputs": [
    {
     "name": "stdout",
     "output_type": "stream",
     "text": [
      "Accuracy in the test dataset: 72.0 %\n"
     ]
    }
   ],
   "source": [
    "x_test_images=np.reshape(X_test[0:2500],[2500,45,45,3])\n",
    "y_test_labels=np.reshape(Y_test[0:2500],[2500,2])\n",
    "Accuracy_test=sess.run(accuracy,\n",
    "                           feed_dict={\n",
    "                        x: x_test_images ,\n",
    "                        y_: y_test_labels\n",
    "                      })\n",
    "Accuracy_test=round(Accuracy_test*100,2)\n",
    "print \"Accuracy in the test dataset: {} %\" .format(Accuracy_test)"
   ]
  },
  {
   "cell_type": "markdown",
   "metadata": {},
   "source": [
    "# Accuracy on validation dataset"
   ]
  },
  {
   "cell_type": "code",
   "execution_count": 25,
   "metadata": {},
   "outputs": [
    {
     "name": "stdout",
     "output_type": "stream",
     "text": [
      "Accuracy :: Validation_set 78.0 % \n"
     ]
    }
   ],
   "source": [
    "x_val_images=np.reshape(X_val[0:n_val],[n_val,45,45,3])\n",
    "y_val_labels=np.reshape(Y_val[0:n_val],[n_val,2])\n",
    "Accuracy_val=sess.run(accuracy,\n",
    "                           feed_dict={\n",
    "                        x: x_val_images ,\n",
    "                        y_: y_val_labels\n",
    "                      })    \n",
    "Accuracy_val=round(Accuracy_val*100,2)\n",
    "print(\"Accuracy :: Validation_set {} % \" .format(Accuracy_val)) "
   ]
  },
  {
   "cell_type": "markdown",
   "metadata": {},
   "source": [
    "# Preprocessing image for model"
   ]
  },
  {
   "cell_type": "code",
   "execution_count": 29,
   "metadata": {
    "collapsed": true
   },
   "outputs": [],
   "source": [
    "def process_img(img):\n",
    "        img=img.resize((45, 45), Image.ANTIALIAS) #resize the image\n",
    "        img = np.array(img)\n",
    "        img=img/np.max(img).astype(float) \n",
    "        img=np.reshape(img, [1,45,45,3])\n",
    "        return img"
   ]
  },
  {
   "cell_type": "markdown",
   "metadata": {},
   "source": [
    "# Testing for random new image"
   ]
  },
  {
   "cell_type": "code",
   "execution_count": 41,
   "metadata": {},
   "outputs": [
    {
     "data": {
      "image/png": "[encoded data removed]",
      "text/plain": [
       "<matplotlib.figure.Figure at 0x7f89cec20910>"
      ]
     },
     "metadata": {},
     "output_type": "display_data"
    }
   ],
   "source": [
    "test_image=Image.open('/home/sakshi/Desktop/images (1).jpg')\n",
    "test_image= process_img(test_image)\n",
    "predicted_array= sess.run(y_predicted, feed_dict={x: test_image})\n",
    "predicted_class= np.argmax(predicted_array)\n",
    "plt.imshow(test_image[0,:,:,:])\n",
    "plt.axis('off')\n",
    "if predicted_class==0:\n",
    "    plt.title(\"It is a cat\")\n",
    "else :\n",
    "    plt.title(\"It is a dog\")\n",
    "plt.show()"
   ]
  }
 ],
 "metadata": {
  "kernelspec": {
   "display_name": "Python 2",
   "language": "python",
   "name": "python2"
  },
  "language_info": {
   "codemirror_mode": {
    "name": "ipython",
    "version": 2
   },
   "file_extension": ".py",
   "mimetype": "text/x-python",
   "name": "python",
   "nbconvert_exporter": "python",
   "pygments_lexer": "ipython2",
   "version": "2.7.13"
  }
 },
 "nbformat": 4,
 "nbformat_minor": 2
}
